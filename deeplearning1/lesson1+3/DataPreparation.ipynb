{
 "cells": [
  {
   "cell_type": "markdown",
   "metadata": {},
   "source": [
    "# Dogs vs Cats Transfer Learning Data Preparation"
   ]
  },
  {
   "cell_type": "markdown",
   "metadata": {},
   "source": [
    "Transfer learning can be used to use a pre-trained to learn new classes. The lesson uses networks trained on ImageNet to learn a new classifier to predict if an image is a dog or a cat\n",
    "\n",
    "This notebook converts the folders and files of data into structured TFRecord files for Tensorflow consumption"
   ]
  },
  {
   "cell_type": "code",
   "execution_count": 1,
   "metadata": {
    "collapsed": true
   },
   "outputs": [],
   "source": [
    "import sys\n",
    "import os\n",
    "import numpy as np\n",
    "import tensorflow as tf\n",
    "import urllib\n",
    "import glob\n",
    "import pickle\n",
    "from PIL import Image\n",
    "from concurrent.futures import ProcessPoolExecutor"
   ]
  },
  {
   "cell_type": "markdown",
   "metadata": {},
   "source": [
    "Data can be obtained from Kaggle web and I have put into the `data_dir` location"
   ]
  },
  {
   "cell_type": "code",
   "execution_count": 2,
   "metadata": {
    "collapsed": true
   },
   "outputs": [],
   "source": [
    "data_dir = os.path.expanduser('~/data/DogsVsCats')\n",
    "\n",
    "dev_data_dir = os.path.join(data_dir, 'dev')\n",
    "train_data_dir = os.path.join(data_dir, 'train')\n",
    "test_data_dir = os.path.join(data_dir, 'test1')\n",
    "validation_data_dir = os.path.join(data_dir, 'validation')"
   ]
  },
  {
   "cell_type": "markdown",
   "metadata": {},
   "source": [
    "Get a class name to indice mapping as our network will predict integers"
   ]
  },
  {
   "cell_type": "markdown",
   "metadata": {},
   "source": [
    "## Class to index mapping"
   ]
  },
  {
   "cell_type": "code",
   "execution_count": 3,
   "metadata": {},
   "outputs": [],
   "source": [
    "class_names = os.listdir(dev_data_dir)\n",
    "class_name2id = { label: index for index, label in enumerate(class_names) }"
   ]
  },
  {
   "cell_type": "code",
   "execution_count": 4,
   "metadata": {
    "collapsed": true
   },
   "outputs": [],
   "source": [
    "with open(os.path.join(data_dir, 'class_name2id.p'), 'wb') as p:\n",
    "    pickle.dump(class_name2id, p)"
   ]
  },
  {
   "cell_type": "markdown",
   "metadata": {},
   "source": [
    "## TFRecord Conversion"
   ]
  },
  {
   "cell_type": "markdown",
   "metadata": {},
   "source": [
    "We will read in each image from their directory and serialize the sample into the TFRecord format"
   ]
  },
  {
   "cell_type": "code",
   "execution_count": 15,
   "metadata": {},
   "outputs": [],
   "source": [
    "def _int64_feature(value):\n",
    "    return tf.train.Feature(int64_list=tf.train.Int64List(value=[value]))\n",
    "\n",
    "def _bytes_feature(value):\n",
    "    return tf.train.Feature(bytes_list=tf.train.BytesList(value=[value]))\n",
    "\n",
    "def convert_to_tfrecord(dataset_name, data_directory, segments=1, directories_as_labels=True, files='**/*.jpg'):\n",
    "    \n",
    "    # Get all files in the directory\n",
    "    filenames = glob.glob(os.path.join(data_directory, files)) \n",
    "    # Create the dataset of filename class tuple\n",
    "    classes = (os.path.basename(os.path.dirname(name)) for name in filenames) if directories_as_labels else [None] * len(filenames)\n",
    "    dataset = list(zip(filenames, classes))\n",
    "    \n",
    "    def _to_record(dataset, name):\n",
    "        with tf.python_io.TFRecordWriter(name) as writer:\n",
    "            dataset_length = len(dataset)\n",
    "            for index, (filename, label) in enumerate(dataset):\n",
    "                sys.stdout.write(f\"\\rProcessing sample {index+1} of {dataset_length}\")\n",
    "                sys.stdout.flush()\n",
    "                \n",
    "                # Open and make images constant size\n",
    "                image = Image.open(filename).resize((224, 224))\n",
    "                \n",
    "                image_raw = ((np.array(image) / 255.) - 0.5).astype(np.float32).tobytes() # Normalize image to -0.5 -> 0.5\n",
    "                \n",
    "                features = {\n",
    "                    'image': _bytes_feature(image_raw),\n",
    "                    'label': _int64_feature(class_name2id[label] if label else -1),\n",
    "                    'text_label': _bytes_feature((label  if label else 'NA').encode('utf8'))\n",
    "                }\n",
    "                \n",
    "                example = tf.train.Example(features=tf.train.Features(feature=features))\n",
    "                writer.write(example.SerializeToString())\n",
    "            print()\n",
    "    \n",
    "    if segments > 1:\n",
    "        for index, sub_dataset in enumerate(np.array_split(dataset, segments)):\n",
    "            filename = f'{dataset_name}-{index}.tfrecord'\n",
    "            print(f'Generating records into {filename}')\n",
    "            _to_record(sub_dataset, os.path.join(data_dir, filename))\n",
    "    else:\n",
    "        filename = f'{dataset_name}.tfrecord'\n",
    "        print(f'Generating records into {filename}')\n",
    "        _to_record(dataset, os.path.join(data_dir, filename))"
   ]
  },
  {
   "cell_type": "code",
   "execution_count": 11,
   "metadata": {},
   "outputs": [
    {
     "name": "stdout",
     "output_type": "stream",
     "text": [
      "Generating records into dev.tfrecord\n",
      "Processing sample 10 of 10\n"
     ]
    }
   ],
   "source": [
    "convert_to_tfrecord('dev', dev_data_dir)"
   ]
  },
  {
   "cell_type": "code",
   "execution_count": 12,
   "metadata": {},
   "outputs": [
    {
     "name": "stdout",
     "output_type": "stream",
     "text": [
      "Generating records into validation-0.tfrecord\n",
      "Processing sample 2750 of 2750\n",
      "Generating records into validation-1.tfrecord\n",
      "Processing sample 2750 of 2750\n",
      "Generating records into validation-2.tfrecord\n",
      "Processing sample 2750 of 2750\n"
     ]
    }
   ],
   "source": [
    "convert_to_tfrecord('validation', validation_data_dir, segments=3)"
   ]
  },
  {
   "cell_type": "code",
   "execution_count": 13,
   "metadata": {},
   "outputs": [
    {
     "name": "stdout",
     "output_type": "stream",
     "text": [
      "Generating records into test.tfrecord\n",
      "Processing sample 12500 of 12500\n"
     ]
    }
   ],
   "source": [
    "convert_to_tfrecord('test', test_data_dir, directories_as_labels=False, files='*.jpg')"
   ]
  },
  {
   "cell_type": "code",
   "execution_count": 14,
   "metadata": {},
   "outputs": [
    {
     "name": "stdout",
     "output_type": "stream",
     "text": [
      "Generating records into train-0.tfrecord\n",
      "Processing sample 1675 of 1675\n",
      "Generating records into train-1.tfrecord\n",
      "Processing sample 1675 of 1675\n",
      "Generating records into train-2.tfrecord\n",
      "Processing sample 1675 of 1675\n",
      "Generating records into train-3.tfrecord\n",
      "Processing sample 1675 of 1675\n",
      "Generating records into train-4.tfrecord\n",
      "Processing sample 1675 of 1675\n",
      "Generating records into train-5.tfrecord\n",
      "Processing sample 1675 of 1675\n",
      "Generating records into train-6.tfrecord\n",
      "Processing sample 1675 of 1675\n",
      "Generating records into train-7.tfrecord\n",
      "Processing sample 1675 of 1675\n",
      "Generating records into train-8.tfrecord\n",
      "Processing sample 1675 of 1675\n",
      "Generating records into train-9.tfrecord\n",
      "Processing sample 1675 of 1675\n"
     ]
    }
   ],
   "source": [
    "convert_to_tfrecord('train', train_data_dir, segments=10)"
   ]
  },
  {
   "cell_type": "code",
   "execution_count": null,
   "metadata": {
    "collapsed": true
   },
   "outputs": [],
   "source": []
  }
 ],
 "metadata": {
  "kernelspec": {
   "display_name": "Python 3",
   "language": "python",
   "name": "python3"
  },
  "language_info": {
   "codemirror_mode": {
    "name": "ipython",
    "version": 3
   },
   "file_extension": ".py",
   "mimetype": "text/x-python",
   "name": "python",
   "nbconvert_exporter": "python",
   "pygments_lexer": "ipython3",
   "version": "3.6.3"
  }
 },
 "nbformat": 4,
 "nbformat_minor": 2
}
